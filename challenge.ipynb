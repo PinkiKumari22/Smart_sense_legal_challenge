{
 "cells": [
  {
   "attachments": {},
   "cell_type": "markdown",
   "metadata": {},
   "source": [
    "## this notebook will use spacy to extract the legal entity from the text and also label the entity type"
   ]
  },
  {
   "attachments": {},
   "cell_type": "markdown",
   "metadata": {},
   "source": [
    "### the training data is like:\n",
    "#### *6_3.json*  has json data of format:\n",
    "----\n",
    "{\"doc_id\": 1835, \"text\": \"1 The applicants Sharman Networks Ltd ('Sharman Networks'), Sharman License Holdings Ltd ('Sharman License') and Ms Nicola Anne Hemming ('Ms Hemming') are each the subject of asset preservation orders made by Wilcox J on 22 March 2005 ('the Mareva orders').\", \"entities\": [[17, 37, \"Organization\"], [38, 58, \"Organization\"], [60, 88, \"Organization\"], [89, 108, \"Organization\"], [113, 135, \"person\"], [136, 150, \"person\"], [221, 234, \"Date\"], [209, 217, \"Judges\"]], \"username\": \"admin\"}\n",
    "\n",
    "----\n",
    "\n",
    "#### *legal_train.txt* has annotations of the form:\n",
    "----\n",
    "-DOCSTART- -X- -X- O\n",
    "\n",
    "1 Others \n",
    "\n",
    "The Others\n",
    "\n",
    "applicants Others\n",
    "\n",
    "Sharman B-Organization\n",
    "\n",
    "Networks I-Organization\n",
    "\n",
    "Ltd L-Organization\n",
    "\n",
    "Sharman B-Organization\n",
    "\n",
    "Networks L-Organization\n",
    "\n",
    "Sharman B-Organization\n",
    "\n",
    "License I-Organization\n",
    "\n",
    "Holdings I-Organization\n",
    "\n",
    "Ltd L-Organization\n",
    "\n",
    "Sharman B-Organization\n",
    "\n",
    "License L-Organization\n",
    "\n",
    "and Others\n",
    "\n",
    "Ms B-person\n",
    "\n",
    "Nicola I-person\n",
    "\n",
    "Anne I-person\n",
    "\n",
    "Hemming L-person\n",
    "\n",
    "Ms B-person\n",
    "\n",
    "Hemming L-person\n",
    "\n",
    "are Others\n",
    "\n",
    "each Others\n",
    "\n",
    "the Others\n",
    "\n",
    "subject Others\n",
    "\n",
    "of Others\n",
    "\n",
    "asset Others\n",
    "\n",
    "preservation Others\n",
    "\n",
    "orders Others\n",
    "\n",
    "made Others\n",
    "\n",
    "by Others\n",
    "\n",
    "Wilcox Others\n",
    "\n",
    "J Others\n",
    "\n",
    "on Others\n",
    "\n",
    "22 B-Date\n",
    "\n",
    "March I-Date\n",
    "\n",
    "2005 L-Date\n",
    "\n",
    "the Others\n",
    "\n",
    "Mareva Others\n",
    "\n",
    "----\n",
    "\n",
    "#### we will use *spacy* to get a base pretrained model and then train it on the legal data"
   ]
  },
  {
   "cell_type": "code",
   "execution_count": 9,
   "metadata": {},
   "outputs": [],
   "source": [
    "from __future__ import unicode_literals, print_function\n",
    "import plac\n",
    "import random\n",
    "from pathlib import Path\n",
    "import spacy\n",
    "from tqdm import tqdm\n",
    "import os"
   ]
  },
  {
   "cell_type": "code",
   "execution_count": 10,
   "metadata": {},
   "outputs": [],
   "source": [
    "import spacy\n",
    "import random\n",
    "import json\n",
    "from spacy.training.example import Example"
   ]
  },
  {
   "attachments": {},
   "cell_type": "markdown",
   "metadata": {},
   "source": [
    "#### Load the pre-trained spaCy model"
   ]
  },
  {
   "cell_type": "code",
   "execution_count": 11,
   "metadata": {},
   "outputs": [
    {
     "name": "stdout",
     "output_type": "stream",
     "text": [
      "Collecting en-core-web-sm==3.6.0\n",
      "  Downloading https://github.com/explosion/spacy-models/releases/download/en_core_web_sm-3.6.0/en_core_web_sm-3.6.0-py3-none-any.whl (12.8 MB)\n",
      "\u001b[2K     \u001b[90m━━━━━━━━━━━━━━━━━━━━━━━━━━━━━━━━━━━━━━━━\u001b[0m \u001b[32m12.8/12.8 MB\u001b[0m \u001b[31m10.1 MB/s\u001b[0m eta \u001b[36m0:00:00\u001b[0m00:01\u001b[0m00:01\u001b[0m\n",
      "\u001b[?25hRequirement already satisfied: spacy<3.7.0,>=3.6.0 in /home/bhartenduk/anaconda3/envs/pytorch/lib/python3.8/site-packages (from en-core-web-sm==3.6.0) (3.6.1)\n",
      "Requirement already satisfied: cymem<2.1.0,>=2.0.2 in /home/bhartenduk/anaconda3/envs/pytorch/lib/python3.8/site-packages (from spacy<3.7.0,>=3.6.0->en-core-web-sm==3.6.0) (2.0.8)\n",
      "Requirement already satisfied: typer<0.10.0,>=0.3.0 in /home/bhartenduk/anaconda3/envs/pytorch/lib/python3.8/site-packages (from spacy<3.7.0,>=3.6.0->en-core-web-sm==3.6.0) (0.4.2)\n",
      "Requirement already satisfied: catalogue<2.1.0,>=2.0.6 in /home/bhartenduk/anaconda3/envs/pytorch/lib/python3.8/site-packages (from spacy<3.7.0,>=3.6.0->en-core-web-sm==3.6.0) (2.0.10)\n",
      "Requirement already satisfied: srsly<3.0.0,>=2.4.3 in /home/bhartenduk/anaconda3/envs/pytorch/lib/python3.8/site-packages (from spacy<3.7.0,>=3.6.0->en-core-web-sm==3.6.0) (2.4.8)\n",
      "Requirement already satisfied: packaging>=20.0 in /home/bhartenduk/anaconda3/envs/pytorch/lib/python3.8/site-packages (from spacy<3.7.0,>=3.6.0->en-core-web-sm==3.6.0) (22.0)\n",
      "Requirement already satisfied: smart-open<7.0.0,>=5.2.1 in /home/bhartenduk/anaconda3/envs/pytorch/lib/python3.8/site-packages (from spacy<3.7.0,>=3.6.0->en-core-web-sm==3.6.0) (5.2.1)\n",
      "Requirement already satisfied: tqdm<5.0.0,>=4.38.0 in /home/bhartenduk/anaconda3/envs/pytorch/lib/python3.8/site-packages (from spacy<3.7.0,>=3.6.0->en-core-web-sm==3.6.0) (4.64.1)\n",
      "Requirement already satisfied: murmurhash<1.1.0,>=0.28.0 in /home/bhartenduk/anaconda3/envs/pytorch/lib/python3.8/site-packages (from spacy<3.7.0,>=3.6.0->en-core-web-sm==3.6.0) (1.0.10)\n",
      "Requirement already satisfied: thinc<8.2.0,>=8.1.8 in /home/bhartenduk/anaconda3/envs/pytorch/lib/python3.8/site-packages (from spacy<3.7.0,>=3.6.0->en-core-web-sm==3.6.0) (8.1.12)\n",
      "Requirement already satisfied: requests<3.0.0,>=2.13.0 in /home/bhartenduk/anaconda3/envs/pytorch/lib/python3.8/site-packages (from spacy<3.7.0,>=3.6.0->en-core-web-sm==3.6.0) (2.25.1)\n",
      "Requirement already satisfied: langcodes<4.0.0,>=3.2.0 in /home/bhartenduk/anaconda3/envs/pytorch/lib/python3.8/site-packages (from spacy<3.7.0,>=3.6.0->en-core-web-sm==3.6.0) (3.3.0)\n",
      "Requirement already satisfied: spacy-loggers<2.0.0,>=1.0.0 in /home/bhartenduk/anaconda3/envs/pytorch/lib/python3.8/site-packages (from spacy<3.7.0,>=3.6.0->en-core-web-sm==3.6.0) (1.0.5)\n",
      "Requirement already satisfied: spacy-legacy<3.1.0,>=3.0.11 in /home/bhartenduk/anaconda3/envs/pytorch/lib/python3.8/site-packages (from spacy<3.7.0,>=3.6.0->en-core-web-sm==3.6.0) (3.0.12)\n",
      "Requirement already satisfied: preshed<3.1.0,>=3.0.2 in /home/bhartenduk/anaconda3/envs/pytorch/lib/python3.8/site-packages (from spacy<3.7.0,>=3.6.0->en-core-web-sm==3.6.0) (3.0.9)\n",
      "Requirement already satisfied: numpy>=1.15.0 in /home/bhartenduk/anaconda3/envs/pytorch/lib/python3.8/site-packages (from spacy<3.7.0,>=3.6.0->en-core-web-sm==3.6.0) (1.23.5)\n",
      "Requirement already satisfied: setuptools in /home/bhartenduk/anaconda3/envs/pytorch/lib/python3.8/site-packages (from spacy<3.7.0,>=3.6.0->en-core-web-sm==3.6.0) (65.6.3)\n",
      "Requirement already satisfied: jinja2 in /home/bhartenduk/anaconda3/envs/pytorch/lib/python3.8/site-packages (from spacy<3.7.0,>=3.6.0->en-core-web-sm==3.6.0) (3.1.2)\n",
      "Requirement already satisfied: pathy>=0.10.0 in /home/bhartenduk/anaconda3/envs/pytorch/lib/python3.8/site-packages (from spacy<3.7.0,>=3.6.0->en-core-web-sm==3.6.0) (0.10.2)\n",
      "Requirement already satisfied: wasabi<1.2.0,>=0.9.1 in /home/bhartenduk/anaconda3/envs/pytorch/lib/python3.8/site-packages (from spacy<3.7.0,>=3.6.0->en-core-web-sm==3.6.0) (1.1.2)\n",
      "Requirement already satisfied: pydantic!=1.8,!=1.8.1,<3.0.0,>=1.7.4 in /home/bhartenduk/anaconda3/envs/pytorch/lib/python3.8/site-packages (from spacy<3.7.0,>=3.6.0->en-core-web-sm==3.6.0) (2.4.2)\n",
      "Requirement already satisfied: typing-extensions>=4.6.1 in /home/bhartenduk/anaconda3/envs/pytorch/lib/python3.8/site-packages (from pydantic!=1.8,!=1.8.1,<3.0.0,>=1.7.4->spacy<3.7.0,>=3.6.0->en-core-web-sm==3.6.0) (4.8.0)\n",
      "Requirement already satisfied: pydantic-core==2.10.1 in /home/bhartenduk/anaconda3/envs/pytorch/lib/python3.8/site-packages (from pydantic!=1.8,!=1.8.1,<3.0.0,>=1.7.4->spacy<3.7.0,>=3.6.0->en-core-web-sm==3.6.0) (2.10.1)\n",
      "Requirement already satisfied: annotated-types>=0.4.0 in /home/bhartenduk/anaconda3/envs/pytorch/lib/python3.8/site-packages (from pydantic!=1.8,!=1.8.1,<3.0.0,>=1.7.4->spacy<3.7.0,>=3.6.0->en-core-web-sm==3.6.0) (0.5.0)\n",
      "Requirement already satisfied: certifi>=2017.4.17 in /home/bhartenduk/anaconda3/envs/pytorch/lib/python3.8/site-packages (from requests<3.0.0,>=2.13.0->spacy<3.7.0,>=3.6.0->en-core-web-sm==3.6.0) (2023.7.22)\n",
      "Requirement already satisfied: chardet<5,>=3.0.2 in /home/bhartenduk/anaconda3/envs/pytorch/lib/python3.8/site-packages (from requests<3.0.0,>=2.13.0->spacy<3.7.0,>=3.6.0->en-core-web-sm==3.6.0) (3.0.4)\n",
      "Requirement already satisfied: urllib3<1.27,>=1.21.1 in /home/bhartenduk/anaconda3/envs/pytorch/lib/python3.8/site-packages (from requests<3.0.0,>=2.13.0->spacy<3.7.0,>=3.6.0->en-core-web-sm==3.6.0) (1.26.14)\n",
      "Requirement already satisfied: idna<3,>=2.5 in /home/bhartenduk/anaconda3/envs/pytorch/lib/python3.8/site-packages (from requests<3.0.0,>=2.13.0->spacy<3.7.0,>=3.6.0->en-core-web-sm==3.6.0) (2.10)\n",
      "Requirement already satisfied: blis<0.8.0,>=0.7.8 in /home/bhartenduk/anaconda3/envs/pytorch/lib/python3.8/site-packages (from thinc<8.2.0,>=8.1.8->spacy<3.7.0,>=3.6.0->en-core-web-sm==3.6.0) (0.7.10)\n",
      "Requirement already satisfied: confection<1.0.0,>=0.0.1 in /home/bhartenduk/anaconda3/envs/pytorch/lib/python3.8/site-packages (from thinc<8.2.0,>=8.1.8->spacy<3.7.0,>=3.6.0->en-core-web-sm==3.6.0) (0.1.3)\n",
      "Requirement already satisfied: click<9.0.0,>=7.1.1 in /home/bhartenduk/anaconda3/envs/pytorch/lib/python3.8/site-packages (from typer<0.10.0,>=0.3.0->spacy<3.7.0,>=3.6.0->en-core-web-sm==3.6.0) (8.1.3)\n",
      "Requirement already satisfied: MarkupSafe>=2.0 in /home/bhartenduk/anaconda3/envs/pytorch/lib/python3.8/site-packages (from jinja2->spacy<3.7.0,>=3.6.0->en-core-web-sm==3.6.0) (2.1.1)\n",
      "\u001b[38;5;2m✔ Download and installation successful\u001b[0m\n",
      "You can now load the package via spacy.load('en_core_web_sm')\n"
     ]
    }
   ],
   "source": [
    "!python3 -m spacy download en_core_web_sm"
   ]
  },
  {
   "cell_type": "code",
   "execution_count": 12,
   "metadata": {},
   "outputs": [],
   "source": [
    "\n",
    "nlp = spacy.load(\"en_core_web_sm\")"
   ]
  },
  {
   "attachments": {},
   "cell_type": "markdown",
   "metadata": {},
   "source": [
    "#### Load the training data from the JSON file"
   ]
  },
  {
   "cell_type": "code",
   "execution_count": 13,
   "metadata": {},
   "outputs": [],
   "source": [
    "# TRAINING_DATA = [\n",
    "# (\"1 The applicants Sharman Networks Ltd ('Sharman Networks'), Sharman License Holdings Ltd ('Sharman License') and Ms Nicola Anne Hemming ('Ms Hemming') are each the subject of asset preservation orders made by Wilcox J on 22 March 2005 ('the Mareva orders').\", {\"entities\": [[17, 37, \"Organization\"], [38, 58, \"Organization\"], [60, 88, \"Organization\"], [89, 108, \"Organization\"], [113, 135, \"person\"], [136, 150, \"person\"], [221, 234, \"Date\"], [209, 217, \"Judges\"]]})\n",
    "\n",
    "# ]"
   ]
  },
  {
   "cell_type": "code",
   "execution_count": 14,
   "metadata": {},
   "outputs": [],
   "source": [
    "with open(\"datasets/6_3.json\", \"r\") as file:\n",
    "    TRAIN_DATA  = json.load(file)"
   ]
  },
  {
   "cell_type": "code",
   "execution_count": null,
   "metadata": {},
   "outputs": [],
   "source": [
    "with open(\"datasets/06_9.json\", \"r\") as file:\n",
    "    TEST_DATA  = json.load(file)"
   ]
  },
  {
   "cell_type": "code",
   "execution_count": 15,
   "metadata": {},
   "outputs": [],
   "source": [
    "model = None\n",
    "output_dir='output'\n",
    "\n",
    "#create output directory if it doesn't exist\n",
    "if not os.path.exists(output_dir):\n",
    "    os.makedirs(output_dir)\n",
    "    \n",
    "n_iter=100"
   ]
  },
  {
   "attachments": {},
   "cell_type": "markdown",
   "metadata": {},
   "source": [
    "##### load the model"
   ]
  },
  {
   "cell_type": "code",
   "execution_count": 17,
   "metadata": {},
   "outputs": [],
   "source": [
    "\n",
    "\n",
    "if model is not None:\n",
    "    nlp = spacy.load(model)  \n",
    "    print(\"Loaded model '%s'\" % model)\n",
    "else:\n",
    "    nlp = spacy.blank('en')  \n",
    "    print(\"Created blank 'en' model\")\n",
    "\n"
   ]
  },
  {
   "attachments": {},
   "cell_type": "markdown",
   "metadata": {},
   "source": [
    "#### set up the pipeline"
   ]
  },
  {
   "cell_type": "code",
   "execution_count": null,
   "metadata": {},
   "outputs": [],
   "source": [
    "if 'ner' not in nlp.pipe_names:\n",
    "    ner = nlp.create_pipe('ner')\n",
    "    nlp.add_pipe(ner, last=True)\n",
    "else:\n",
    "    ner = nlp.get_pipe('ner')"
   ]
  },
  {
   "attachments": {},
   "cell_type": "markdown",
   "metadata": {},
   "source": [
    "#### Prepare training examples in spaCy format"
   ]
  },
  {
   "cell_type": "code",
   "execution_count": null,
   "metadata": {},
   "outputs": [],
   "source": [
    "for _, annotations in TRAIN_DATA:\n",
    "    for ent in annotations.get('entities'):\n",
    "        ner.add_label(ent[2])\n",
    "\n",
    "other_pipes = [pipe for pipe in nlp.pipe_names if pipe != 'ner']"
   ]
  },
  {
   "attachments": {},
   "cell_type": "markdown",
   "metadata": {},
   "source": [
    "# Training loop"
   ]
  },
  {
   "cell_type": "code",
   "execution_count": null,
   "metadata": {},
   "outputs": [],
   "source": [
    "with nlp.disable_pipes(*other_pipes):  # only train NER\n",
    "    optimizer = nlp.begin_training()\n",
    "    for itn in range(n_iter):\n",
    "        random.shuffle(TRAIN_DATA)\n",
    "        losses = {}\n",
    "        for text, annotations in tqdm(TRAIN_DATA):\n",
    "            nlp.update(\n",
    "                [text],  \n",
    "                [annotations],  \n",
    "                drop=0.5,  \n",
    "                sgd=optimizer,\n",
    "                losses=losses)\n",
    "        print(losses)"
   ]
  },
  {
   "attachments": {},
   "cell_type": "markdown",
   "metadata": {},
   "source": [
    "#### Save the trained model to a directory"
   ]
  },
  {
   "cell_type": "code",
   "execution_count": null,
   "metadata": {},
   "outputs": [],
   "source": [
    "\n",
    "if output_dir is not None:\n",
    "    output_dir = Path(output_dir)\n",
    "    if not output_dir.exists():\n",
    "        output_dir.mkdir()\n",
    "    nlp.to_disk(output_dir)\n",
    "    print(\"Saved model to\", output_dir)"
   ]
  },
  {
   "attachments": {},
   "cell_type": "markdown",
   "metadata": {},
   "source": [
    "#### Test the trained model"
   ]
  },
  {
   "cell_type": "code",
   "execution_count": null,
   "metadata": {},
   "outputs": [],
   "source": [
    "for text, _ in TEST_DATA:\n",
    "    doc = nlp(text)\n",
    "    print('Entities', [(ent.text, ent.label_) for ent in doc.ents])"
   ]
  },
  {
   "attachments": {},
   "cell_type": "markdown",
   "metadata": {},
   "source": [
    "# load the model"
   ]
  },
  {
   "attachments": {},
   "cell_type": "markdown",
   "metadata": {},
   "source": [
    "model = spacy.load('model_name')"
   ]
  }
 ],
 "metadata": {
  "kernelspec": {
   "display_name": "pytorch",
   "language": "python",
   "name": "python3"
  },
  "language_info": {
   "codemirror_mode": {
    "name": "ipython",
    "version": 3
   },
   "file_extension": ".py",
   "mimetype": "text/x-python",
   "name": "python",
   "nbconvert_exporter": "python",
   "pygments_lexer": "ipython3",
   "version": "3.8.16"
  },
  "orig_nbformat": 4
 },
 "nbformat": 4,
 "nbformat_minor": 2
}
